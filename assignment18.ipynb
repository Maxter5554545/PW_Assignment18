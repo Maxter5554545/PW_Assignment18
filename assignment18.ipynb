{
 "cells": [
  {
   "cell_type": "code",
   "execution_count": 5,
   "id": "1f81bafc-5670-4b3b-ad41-104e03b9a80b",
   "metadata": {},
   "outputs": [],
   "source": [
    "import logging\n",
    "logging.basicConfig(filename=\"assign18.log\", level= logging.ERROR)"
   ]
  },
  {
   "cell_type": "code",
   "execution_count": 1,
   "id": "8e97e551-9434-44e2-ac61-21ecf7d69793",
   "metadata": {},
   "outputs": [
    {
     "data": {
      "text/plain": [
       "'/home/jovyan/work'"
      ]
     },
     "execution_count": 1,
     "metadata": {},
     "output_type": "execute_result"
    }
   ],
   "source": [
    "# Q1. What is Flask Framework? What are the advantages of Flask Framework?\n",
    "try:\n",
    "    logging.info(\n",
    "        ''' Flask is a Framework used to create server or Web A.P.I.s.\n",
    "    Advantages of Flask Frameworks are =>\n",
    "    1.We can merge html files with the help of Flask.\n",
    "    2.Flask Framework programs are much easier & creates less complexity.\n",
    "    3.We can create A.P.I.s & Servers with the help of Flask Framework. '''\n",
    "    )\n",
    "except TypeError as t:\n",
    "    logging.error(t)"
   ]
  },
  {
   "cell_type": "code",
   "execution_count": null,
   "id": "edd1fed9-9d52-452d-9c6f-a0f46a313c01",
   "metadata": {},
   "outputs": [],
   "source": [
    "# Q2. Create a simple Flask application to display ‘Hello World!!’. Attach the screenshot of the output in\n",
    "# Jupyter Notebook.\n",
    "\n",
    "#The screenshot of Q2 is attached with the github file"
   ]
  },
  {
   "cell_type": "code",
   "execution_count": null,
   "id": "16c283d8-a8b0-4392-8e56-ecddbed0c472",
   "metadata": {},
   "outputs": [],
   "source": [
    "# Q3. What is App routing in Flask? Why do we use app routes?\n",
    "try:\n",
    "    logging.info(\n",
    "    ''' App routing in Flask is a process of mapping the URLs to provide a route to the server through http.\n",
    "    We use app routes for providing the path to the server.''''\n",
    "    )\n",
    "except TypeError as t:\n",
    "    logging.error(t)"
   ]
  },
  {
   "cell_type": "code",
   "execution_count": null,
   "id": "bbdeb7d8-ff63-4ac0-9559-6a16e978c138",
   "metadata": {},
   "outputs": [],
   "source": [
    "# Q4. Create a “/welcome” route to display the welcome message “Welcome to ABC Corporation” and a “/”\n",
    "# route to show the following details:\n",
    "# Company Name: ABC Corporation\n",
    "# Location: India\n",
    "# Contact Detail: 999-999-9999\n",
    "\n",
    "#The Screenshot of Q4 is attached with the github file"
   ]
  },
  {
   "cell_type": "code",
   "execution_count": 6,
   "id": "5858103a-4e5d-41fa-8678-8f7ea0c3a71e",
   "metadata": {},
   "outputs": [],
   "source": [
    "# Q5. What function is used in Flask for URL Building? Write a Python code to demonstrate the working of the\n",
    "# url_for() function.\n",
    "try:\n",
    "    logging.info(\"URL buildings are the routes or path of a web browser passed in the parameters of app routes in quotaions\\nWhile Url_for() is a function in flasks which creates the URL for the end-point of the given parameters. \")\n",
    "except TypeError as t:\n",
    "    logging.error(t)"
   ]
  },
  {
   "cell_type": "code",
   "execution_count": null,
   "id": "c7a8e77b-9326-4fb0-b104-7c0259ab50bd",
   "metadata": {},
   "outputs": [],
   "source": []
  }
 ],
 "metadata": {
  "kernelspec": {
   "display_name": "Python 3 (ipykernel)",
   "language": "python",
   "name": "python3"
  },
  "language_info": {
   "codemirror_mode": {
    "name": "ipython",
    "version": 3
   },
   "file_extension": ".py",
   "mimetype": "text/x-python",
   "name": "python",
   "nbconvert_exporter": "python",
   "pygments_lexer": "ipython3",
   "version": "3.10.8"
  }
 },
 "nbformat": 4,
 "nbformat_minor": 5
}
